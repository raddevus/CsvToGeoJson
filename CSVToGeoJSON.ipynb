{
 "cells": [
  {
   "cell_type": "code",
   "execution_count": 3,
   "metadata": {},
   "outputs": [],
   "source": [
    "import csv\n",
    "\n",
    "# Read tornado data from csv\n",
    "tornadoData = csv.reader(open('2017_torn.csv', 'r'))\n",
    "outputFile = \"tornados.geojson\"\n",
    "\n",
    "# Create a template that will format the CSV data into GeoJSON\n",
    "template = \\\n",
    "   ''' \\\n",
    "   { \"type\" : \"Feature\",\n",
    "       \"geometry\" : {\n",
    "           \"type\" : \"Point\",\n",
    "           \"coordinates\" : [%s, %s]},\n",
    "       \"properties\" : { \"date\" : %s, \"len\" : \"%s\", \"wid\" : \"%s\"}\n",
    "       },\n",
    "   '''\n",
    "\n",
    "# GeoJSON file header\n",
    "output = \\\n",
    "   ''' \\\n",
    "\n",
    "{ \"type\" : \"Feature Collection\",\n",
    "   \"features\" : [\n",
    "   '''\n",
    "\n",
    "# Iterate through rows of data, skipping first header row (counter >= 1)\n",
    "counter = 0;\n",
    "for row in tornadoData:\n",
    "    if counter >= 1:\n",
    "        slat = row[15]\n",
    "        slon = row[16]\n",
    "        date = row[4]\n",
    "        len = row[19]\n",
    "        wid = row[20]\n",
    "        output += template % (slon, slat,  date,  len, wid)\n",
    "    counter+=1\n",
    "\n",
    "# append closing elements to end of GeoJSON\n",
    "output += \\\n",
    "   ''' \\\n",
    "   ]\n",
    "}\n",
    "   '''\n",
    "\n",
    "# Creates the output file and writes the formatted GeoJSON to it\n",
    "outFileHandle = open(outputFile, \"w\")\n",
    "outFileHandle.write(output)\n",
    "outFileHandle.close()"
   ]
  },
  {
   "cell_type": "code",
   "execution_count": null,
   "metadata": {},
   "outputs": [],
   "source": []
  }
 ],
 "metadata": {
  "kernelspec": {
   "display_name": "Python 3",
   "language": "python",
   "name": "python3"
  },
  "language_info": {
   "codemirror_mode": {
    "name": "ipython",
    "version": 3
   },
   "file_extension": ".py",
   "mimetype": "text/x-python",
   "name": "python",
   "nbconvert_exporter": "python",
   "pygments_lexer": "ipython3",
   "version": "3.7.3"
  }
 },
 "nbformat": 4,
 "nbformat_minor": 2
}
